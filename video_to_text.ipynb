{
 "cells": [
  {
   "cell_type": "code",
   "execution_count": 1,
   "metadata": {},
   "outputs": [],
   "source": [
    "import os\n",
    "import speech_recognition as spr\n",
    "import urllib.request as url_req\n",
    "import pytube\n",
    "from pydub import AudioSegment\n",
    "from pydub.silence import split_on_silence"
   ]
  },
  {
   "cell_type": "code",
   "execution_count": 2,
   "metadata": {},
   "outputs": [],
   "source": [
    "url = '' # Provide the URL here\n",
    "file_name = '100'\n",
    "folder_name = 'files'\n",
    "files_folder = f'{os.getcwd()}/{folder_name}'"
   ]
  },
  {
   "cell_type": "code",
   "execution_count": 3,
   "metadata": {},
   "outputs": [],
   "source": [
    "if not os.path.exists(files_folder):\n",
    "    os.mkdir(files_folder)"
   ]
  },
  {
   "cell_type": "code",
   "execution_count": 4,
   "metadata": {},
   "outputs": [
    {
     "data": {
      "text/plain": [
       "'/Users/aot/projects/fun/video-transcript/files/100.mp4'"
      ]
     },
     "execution_count": 4,
     "metadata": {},
     "output_type": "execute_result"
    }
   ],
   "source": [
    "youtube = pytube.YouTube(url)\n",
    "video = youtube.streams.first()\n",
    "video.download('files', file_name)"
   ]
  },
  {
   "cell_type": "code",
   "execution_count": 5,
   "metadata": {
    "scrolled": true
   },
   "outputs": [],
   "source": [
    "mp3_cmd = f'ffmpeg -i {file_name}.mp4 {file_name}.mp3'\n",
    "wav_cmd = f'ffmpeg -i {file_name}.mp3 {file_name}.wav'\n"
   ]
  },
  {
   "cell_type": "code",
   "execution_count": 6,
   "metadata": {},
   "outputs": [
    {
     "data": {
      "text/plain": [
       "0"
      ]
     },
     "execution_count": 6,
     "metadata": {},
     "output_type": "execute_result"
    }
   ],
   "source": [
    "os.chdir(folder_name)\n",
    "os.system(mp3_cmd)\n",
    "os.system(wav_cmd)"
   ]
  },
  {
   "cell_type": "code",
   "execution_count": 7,
   "metadata": {},
   "outputs": [],
   "source": [
    "recognizer = spr.Recognizer()\n",
    "audio = AudioSegment.from_wav(f'{files_folder}/{file_name}.wav')\n",
    "#audio = spr.AudioFile(f'{files_folder}/{file_name}.wav')\n",
    "#Split into chunks\n",
    "audio_chunks = split_on_silence(audio, min_silence_len = 500, silence_thresh = audio.dBFS-14, keep_silence=500)\n",
    "chunks_folder = f'{files_folder}/chunks'\n",
    "if not os.path.exists(chunks_folder):\n",
    "    os.mkdir(chunks_folder)"
   ]
  },
  {
   "cell_type": "code",
   "execution_count": 8,
   "metadata": {},
   "outputs": [
    {
     "name": "stdout",
     "output_type": "stream",
     "text": [
      "Unknown value error\n",
      "Unknown value error\n",
      "Unknown value error\n",
      "Unknown value error\n",
      "Unknown value error\n",
      "Unknown value error\n",
      "Unknown value error\n",
      "Unknown value error\n",
      "Unknown value error\n",
      "Unknown value error\n",
      "Unknown value error\n",
      "unit 11 Hobbies\n",
      "do you have any hobbies\n",
      "I have several\n",
      "really\n",
      "please tell me more about your hobbies\n",
      "wow\n",
      "I do like to collect things\n",
      "really\n",
      "what do you like to collect\n",
      "I like to collect stamps\n",
      "really\n",
      "where to collect stamps from\n",
      "I collect stamps from all over the world\n",
      "why do you do that\n",
      "because eventually I hope to have a stamp from every country\n",
      "why do you want all of those stamps\n",
      "I think it's because\n",
      "I won't be able to go to those countries myself\n",
      "what is another half of yours\n",
      "I collect beer\n",
      "pardon me\n",
      "you collect beer\n",
      "well\n",
      "actually I collect beer cans\n",
      "where'd you get the cans from\n",
      "every place that I travel to\n",
      "do you drink the beer\n",
      "I'm not a Beer Drinker\n",
      "oh I see\n",
      "what about you\n",
      "what are your hobbies\n",
      "I like to read a lot\n",
      "really\n",
      "what do you read about\n",
      "I like to read about\n",
      "best sellers and I like to read a lot about science to\n",
      "what kind of science do you read about\n",
      "variety of topics\n",
      "but I especially like to read about nature and about Electronics\n",
      "fascinating\n",
      "why do you like to read so much\n",
      "how I think it helps me exercise my brain\n",
      "that's a good reason\n",
      "if it doesn't make you too tired\n",
      "do you have any hobbies\n",
      "I have several\n",
      "what do you like to collect\n",
      "I like to collect stamps\n",
      "what is another hobby of yours\n",
      "do you drink the beer\n",
      "I'm not a Beer Drinker\n",
      "what about you\n",
      "what are your hobbies\n",
      "well I like to read a lot\n",
      "what do you read about\n",
      "what kind of science do you read about\n",
      "\n"
     ]
    }
   ],
   "source": [
    "text = ''\n",
    "# with audio as source:\n",
    "#     audio = recognizer.record(source, duration=120)\n",
    "#     text += recognizer.recognize_google(audio)\n",
    "for i, chunk in enumerate(audio_chunks, start=1):\n",
    "    chunk_filename = f'{chunks_folder}/chunk_{i}.wav'\n",
    "    chunk.export(chunk_filename, format=\"wav\")\n",
    "    # Use speech recognition and recognize the chunk\n",
    "    with spr.AudioFile(chunk_filename) as source:\n",
    "        sentence_audio = recognizer.record(source)\n",
    "        try:\n",
    "            text += recognizer.recognize_google(sentence_audio) + '\\n'\n",
    "        except spr.UnknownValueError as e:\n",
    "            #print('Unknown value error')\n",
    "            pass\n",
    "print(text)"
   ]
  },
  {
   "cell_type": "markdown",
   "metadata": {},
   "source": [
    "### Convert text to sentence"
   ]
  },
  {
   "cell_type": "code",
   "execution_count": null,
   "metadata": {},
   "outputs": [],
   "source": [
    "# import nltk\n",
    "# nltk.download('punkt')\n",
    "# from nltk import word_tokenize,sent_tokenize"
   ]
  },
  {
   "cell_type": "code",
   "execution_count": null,
   "metadata": {},
   "outputs": [],
   "source": [
    "# text_sent = sent_tokenize(text)\n",
    "# print(text_sent)"
   ]
  },
  {
   "cell_type": "code",
   "execution_count": null,
   "metadata": {},
   "outputs": [],
   "source": []
  }
 ],
 "metadata": {
  "kernelspec": {
   "display_name": "venv",
   "language": "python",
   "name": "venv"
  },
  "language_info": {
   "codemirror_mode": {
    "name": "ipython",
    "version": 3
   },
   "file_extension": ".py",
   "mimetype": "text/x-python",
   "name": "python",
   "nbconvert_exporter": "python",
   "pygments_lexer": "ipython3",
   "version": "3.8.5"
  }
 },
 "nbformat": 4,
 "nbformat_minor": 4
}
